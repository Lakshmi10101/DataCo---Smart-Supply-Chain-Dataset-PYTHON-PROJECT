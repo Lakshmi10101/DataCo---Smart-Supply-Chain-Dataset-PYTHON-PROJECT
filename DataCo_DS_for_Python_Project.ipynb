{
  "nbformat": 4,
  "nbformat_minor": 0,
  "metadata": {
    "colab": {
      "provenance": []
    },
    "kernelspec": {
      "name": "python3",
      "display_name": "Python 3"
    },
    "language_info": {
      "name": "python"
    }
  },
  "cells": [
    {
      "cell_type": "code",
      "execution_count": null,
      "metadata": {
        "id": "3DMav7d6aRxx"
      },
      "outputs": [],
      "source": [
        "import os\n",
        "import zipfile\n",
        "import numpy as np\n",
        "import pandas as pd\n",
        "\n",
        "import plotly.express as px\n",
        "import plotly.subplots as sp\n",
        "import plotly.graph_objects as go\n",
        "\n",
        "from plotly.subplots import make_subplots\n",
        "\n",
        "import missingno\n",
        "\n",
        "\n",
        "import time"
      ]
    },
    {
      "cell_type": "markdown",
      "source": [
        "# Loading Dataset"
      ],
      "metadata": {
        "id": "-pO-Yd0CuKaI"
      }
    },
    {
      "cell_type": "code",
      "source": [
        "os.listdir()"
      ],
      "metadata": {
        "colab": {
          "base_uri": "https://localhost:8080/"
        },
        "id": "Uc9T0eZacF22",
        "outputId": "8515339c-04b5-4be9-8306-68fa14735995"
      },
      "execution_count": null,
      "outputs": [
        {
          "output_type": "execute_result",
          "data": {
            "text/plain": [
              "['.config', 'DataCoSupplyChainDataset.csv.zip', 'sample_data']"
            ]
          },
          "metadata": {},
          "execution_count": 2
        }
      ]
    },
    {
      "cell_type": "code",
      "source": [
        "f_name = 'DataCoSupplyChainDataset.csv.zip'\n",
        "print('File size', os.path.getsize(f_name) / 1024 / 1024, 'MB')"
      ],
      "metadata": {
        "colab": {
          "base_uri": "https://localhost:8080/"
        },
        "id": "nJ8_5FIEcLAj",
        "outputId": "8040df43-dace-4659-d666-6b65487c04b7"
      },
      "execution_count": null,
      "outputs": [
        {
          "output_type": "stream",
          "name": "stdout",
          "text": [
            "File size 17.786191940307617 MB\n"
          ]
        }
      ]
    },
    {
      "cell_type": "code",
      "source": [
        "# To unzip the archive 'features.zip' in the current directory\n",
        "\n",
        "start = time.perf_counter()   # Get current (relative) time in program\n",
        "\n",
        "with zipfile.ZipFile(f_name, 'r') as fd:\n",
        "    fd.extractall('.')\n",
        "\n",
        "end = time.perf_counter()  # Get current (relative) time in program\n",
        "print('Time to unzip', f_name, ':', end - start, 'seconds')"
      ],
      "metadata": {
        "colab": {
          "base_uri": "https://localhost:8080/"
        },
        "id": "Xo-gjp87cf9W",
        "outputId": "39da64fb-f06a-4634-f2b4-f3107dd50ee7"
      },
      "execution_count": null,
      "outputs": [
        {
          "output_type": "stream",
          "name": "stdout",
          "text": [
            "Time to unzip DataCoSupplyChainDataset.csv.zip : 0.6655792419999216 seconds\n"
          ]
        }
      ]
    },
    {
      "cell_type": "code",
      "source": [
        "os.listdir()"
      ],
      "metadata": {
        "colab": {
          "base_uri": "https://localhost:8080/"
        },
        "id": "arZU_QDSco-7",
        "outputId": "cacc2bec-7643-4a0b-f548-cf3c13d529e8"
      },
      "execution_count": null,
      "outputs": [
        {
          "output_type": "execute_result",
          "data": {
            "text/plain": [
              "['.config',\n",
              " 'DataCoSupplyChainDataset.csv',\n",
              " 'DataCoSupplyChainDataset.csv.zip',\n",
              " 'sample_data']"
            ]
          },
          "metadata": {},
          "execution_count": 5
        }
      ]
    },
    {
      "cell_type": "code",
      "source": [
        "csv_file = 'DataCoSupplyChainDataset.csv'\n",
        "print('File size', os.path.getsize(csv_file) / 1024 / 1024, 'MB')"
      ],
      "metadata": {
        "colab": {
          "base_uri": "https://localhost:8080/"
        },
        "id": "nmKQCrl3wmb3",
        "outputId": "1c29bc23-2130-4d4d-c803-2722c13e9e25"
      },
      "execution_count": null,
      "outputs": [
        {
          "output_type": "stream",
          "name": "stdout",
          "text": [
            "File size 91.46704578399658 MB\n"
          ]
        }
      ]
    },
    {
      "cell_type": "code",
      "source": [
        "supply_chain_df = pd.read_csv(csv_file, encoding = 'latin-1')\n",
        "supply_chain_df.head()"
      ],
      "metadata": {
        "colab": {
          "base_uri": "https://localhost:8080/",
          "height": 377
        },
        "id": "kEgYowkncpAt",
        "outputId": "9ee4a024-c9cc-4aa5-a2a6-305a590c4448"
      },
      "execution_count": null,
      "outputs": [
        {
          "output_type": "execute_result",
          "data": {
            "text/plain": [
              "       Type  Days for shipping (real)  Days for shipment (scheduled)  \\\n",
              "0     DEBIT                         3                              4   \n",
              "1  TRANSFER                         5                              4   \n",
              "2      CASH                         4                              4   \n",
              "3     DEBIT                         3                              4   \n",
              "4   PAYMENT                         2                              4   \n",
              "\n",
              "   Benefit per order  Sales per customer   Delivery Status  \\\n",
              "0          91.250000          314.640015  Advance shipping   \n",
              "1        -249.089996          311.359985     Late delivery   \n",
              "2        -247.779999          309.720001  Shipping on time   \n",
              "3          22.860001          304.809998  Advance shipping   \n",
              "4         134.210007          298.250000  Advance shipping   \n",
              "\n",
              "   Late_delivery_risk  Category Id   Category Name Customer City  ...  \\\n",
              "0                   0           73  Sporting Goods        Caguas  ...   \n",
              "1                   1           73  Sporting Goods        Caguas  ...   \n",
              "2                   0           73  Sporting Goods      San Jose  ...   \n",
              "3                   0           73  Sporting Goods   Los Angeles  ...   \n",
              "4                   0           73  Sporting Goods        Caguas  ...   \n",
              "\n",
              "  Order Zipcode Product Card Id Product Category Id  Product Description  \\\n",
              "0           NaN            1360                  73                  NaN   \n",
              "1           NaN            1360                  73                  NaN   \n",
              "2           NaN            1360                  73                  NaN   \n",
              "3           NaN            1360                  73                  NaN   \n",
              "4           NaN            1360                  73                  NaN   \n",
              "\n",
              "                                  Product Image  Product Name Product Price  \\\n",
              "0  http://images.acmesports.sports/Smart+watch   Smart watch         327.75   \n",
              "1  http://images.acmesports.sports/Smart+watch   Smart watch         327.75   \n",
              "2  http://images.acmesports.sports/Smart+watch   Smart watch         327.75   \n",
              "3  http://images.acmesports.sports/Smart+watch   Smart watch         327.75   \n",
              "4  http://images.acmesports.sports/Smart+watch   Smart watch         327.75   \n",
              "\n",
              "  Product Status shipping date (DateOrders)   Shipping Mode  \n",
              "0              0             2/3/2018 22:56  Standard Class  \n",
              "1              0            1/18/2018 12:27  Standard Class  \n",
              "2              0            1/17/2018 12:06  Standard Class  \n",
              "3              0            1/16/2018 11:45  Standard Class  \n",
              "4              0            1/15/2018 11:24  Standard Class  \n",
              "\n",
              "[5 rows x 53 columns]"
            ],
            "text/html": [
              "\n",
              "  <div id=\"df-bec673c3-64d0-4197-86d4-6b4044e5e161\" class=\"colab-df-container\">\n",
              "    <div>\n",
              "<style scoped>\n",
              "    .dataframe tbody tr th:only-of-type {\n",
              "        vertical-align: middle;\n",
              "    }\n",
              "\n",
              "    .dataframe tbody tr th {\n",
              "        vertical-align: top;\n",
              "    }\n",
              "\n",
              "    .dataframe thead th {\n",
              "        text-align: right;\n",
              "    }\n",
              "</style>\n",
              "<table border=\"1\" class=\"dataframe\">\n",
              "  <thead>\n",
              "    <tr style=\"text-align: right;\">\n",
              "      <th></th>\n",
              "      <th>Type</th>\n",
              "      <th>Days for shipping (real)</th>\n",
              "      <th>Days for shipment (scheduled)</th>\n",
              "      <th>Benefit per order</th>\n",
              "      <th>Sales per customer</th>\n",
              "      <th>Delivery Status</th>\n",
              "      <th>Late_delivery_risk</th>\n",
              "      <th>Category Id</th>\n",
              "      <th>Category Name</th>\n",
              "      <th>Customer City</th>\n",
              "      <th>...</th>\n",
              "      <th>Order Zipcode</th>\n",
              "      <th>Product Card Id</th>\n",
              "      <th>Product Category Id</th>\n",
              "      <th>Product Description</th>\n",
              "      <th>Product Image</th>\n",
              "      <th>Product Name</th>\n",
              "      <th>Product Price</th>\n",
              "      <th>Product Status</th>\n",
              "      <th>shipping date (DateOrders)</th>\n",
              "      <th>Shipping Mode</th>\n",
              "    </tr>\n",
              "  </thead>\n",
              "  <tbody>\n",
              "    <tr>\n",
              "      <th>0</th>\n",
              "      <td>DEBIT</td>\n",
              "      <td>3</td>\n",
              "      <td>4</td>\n",
              "      <td>91.250000</td>\n",
              "      <td>314.640015</td>\n",
              "      <td>Advance shipping</td>\n",
              "      <td>0</td>\n",
              "      <td>73</td>\n",
              "      <td>Sporting Goods</td>\n",
              "      <td>Caguas</td>\n",
              "      <td>...</td>\n",
              "      <td>NaN</td>\n",
              "      <td>1360</td>\n",
              "      <td>73</td>\n",
              "      <td>NaN</td>\n",
              "      <td>http://images.acmesports.sports/Smart+watch</td>\n",
              "      <td>Smart watch</td>\n",
              "      <td>327.75</td>\n",
              "      <td>0</td>\n",
              "      <td>2/3/2018 22:56</td>\n",
              "      <td>Standard Class</td>\n",
              "    </tr>\n",
              "    <tr>\n",
              "      <th>1</th>\n",
              "      <td>TRANSFER</td>\n",
              "      <td>5</td>\n",
              "      <td>4</td>\n",
              "      <td>-249.089996</td>\n",
              "      <td>311.359985</td>\n",
              "      <td>Late delivery</td>\n",
              "      <td>1</td>\n",
              "      <td>73</td>\n",
              "      <td>Sporting Goods</td>\n",
              "      <td>Caguas</td>\n",
              "      <td>...</td>\n",
              "      <td>NaN</td>\n",
              "      <td>1360</td>\n",
              "      <td>73</td>\n",
              "      <td>NaN</td>\n",
              "      <td>http://images.acmesports.sports/Smart+watch</td>\n",
              "      <td>Smart watch</td>\n",
              "      <td>327.75</td>\n",
              "      <td>0</td>\n",
              "      <td>1/18/2018 12:27</td>\n",
              "      <td>Standard Class</td>\n",
              "    </tr>\n",
              "    <tr>\n",
              "      <th>2</th>\n",
              "      <td>CASH</td>\n",
              "      <td>4</td>\n",
              "      <td>4</td>\n",
              "      <td>-247.779999</td>\n",
              "      <td>309.720001</td>\n",
              "      <td>Shipping on time</td>\n",
              "      <td>0</td>\n",
              "      <td>73</td>\n",
              "      <td>Sporting Goods</td>\n",
              "      <td>San Jose</td>\n",
              "      <td>...</td>\n",
              "      <td>NaN</td>\n",
              "      <td>1360</td>\n",
              "      <td>73</td>\n",
              "      <td>NaN</td>\n",
              "      <td>http://images.acmesports.sports/Smart+watch</td>\n",
              "      <td>Smart watch</td>\n",
              "      <td>327.75</td>\n",
              "      <td>0</td>\n",
              "      <td>1/17/2018 12:06</td>\n",
              "      <td>Standard Class</td>\n",
              "    </tr>\n",
              "    <tr>\n",
              "      <th>3</th>\n",
              "      <td>DEBIT</td>\n",
              "      <td>3</td>\n",
              "      <td>4</td>\n",
              "      <td>22.860001</td>\n",
              "      <td>304.809998</td>\n",
              "      <td>Advance shipping</td>\n",
              "      <td>0</td>\n",
              "      <td>73</td>\n",
              "      <td>Sporting Goods</td>\n",
              "      <td>Los Angeles</td>\n",
              "      <td>...</td>\n",
              "      <td>NaN</td>\n",
              "      <td>1360</td>\n",
              "      <td>73</td>\n",
              "      <td>NaN</td>\n",
              "      <td>http://images.acmesports.sports/Smart+watch</td>\n",
              "      <td>Smart watch</td>\n",
              "      <td>327.75</td>\n",
              "      <td>0</td>\n",
              "      <td>1/16/2018 11:45</td>\n",
              "      <td>Standard Class</td>\n",
              "    </tr>\n",
              "    <tr>\n",
              "      <th>4</th>\n",
              "      <td>PAYMENT</td>\n",
              "      <td>2</td>\n",
              "      <td>4</td>\n",
              "      <td>134.210007</td>\n",
              "      <td>298.250000</td>\n",
              "      <td>Advance shipping</td>\n",
              "      <td>0</td>\n",
              "      <td>73</td>\n",
              "      <td>Sporting Goods</td>\n",
              "      <td>Caguas</td>\n",
              "      <td>...</td>\n",
              "      <td>NaN</td>\n",
              "      <td>1360</td>\n",
              "      <td>73</td>\n",
              "      <td>NaN</td>\n",
              "      <td>http://images.acmesports.sports/Smart+watch</td>\n",
              "      <td>Smart watch</td>\n",
              "      <td>327.75</td>\n",
              "      <td>0</td>\n",
              "      <td>1/15/2018 11:24</td>\n",
              "      <td>Standard Class</td>\n",
              "    </tr>\n",
              "  </tbody>\n",
              "</table>\n",
              "<p>5 rows × 53 columns</p>\n",
              "</div>\n",
              "    <div class=\"colab-df-buttons\">\n",
              "\n",
              "  <div class=\"colab-df-container\">\n",
              "    <button class=\"colab-df-convert\" onclick=\"convertToInteractive('df-bec673c3-64d0-4197-86d4-6b4044e5e161')\"\n",
              "            title=\"Convert this dataframe to an interactive table.\"\n",
              "            style=\"display:none;\">\n",
              "\n",
              "  <svg xmlns=\"http://www.w3.org/2000/svg\" height=\"24px\" viewBox=\"0 -960 960 960\">\n",
              "    <path d=\"M120-120v-720h720v720H120Zm60-500h600v-160H180v160Zm220 220h160v-160H400v160Zm0 220h160v-160H400v160ZM180-400h160v-160H180v160Zm440 0h160v-160H620v160ZM180-180h160v-160H180v160Zm440 0h160v-160H620v160Z\"/>\n",
              "  </svg>\n",
              "    </button>\n",
              "\n",
              "  <style>\n",
              "    .colab-df-container {\n",
              "      display:flex;\n",
              "      gap: 12px;\n",
              "    }\n",
              "\n",
              "    .colab-df-convert {\n",
              "      background-color: #E8F0FE;\n",
              "      border: none;\n",
              "      border-radius: 50%;\n",
              "      cursor: pointer;\n",
              "      display: none;\n",
              "      fill: #1967D2;\n",
              "      height: 32px;\n",
              "      padding: 0 0 0 0;\n",
              "      width: 32px;\n",
              "    }\n",
              "\n",
              "    .colab-df-convert:hover {\n",
              "      background-color: #E2EBFA;\n",
              "      box-shadow: 0px 1px 2px rgba(60, 64, 67, 0.3), 0px 1px 3px 1px rgba(60, 64, 67, 0.15);\n",
              "      fill: #174EA6;\n",
              "    }\n",
              "\n",
              "    .colab-df-buttons div {\n",
              "      margin-bottom: 4px;\n",
              "    }\n",
              "\n",
              "    [theme=dark] .colab-df-convert {\n",
              "      background-color: #3B4455;\n",
              "      fill: #D2E3FC;\n",
              "    }\n",
              "\n",
              "    [theme=dark] .colab-df-convert:hover {\n",
              "      background-color: #434B5C;\n",
              "      box-shadow: 0px 1px 3px 1px rgba(0, 0, 0, 0.15);\n",
              "      filter: drop-shadow(0px 1px 2px rgba(0, 0, 0, 0.3));\n",
              "      fill: #FFFFFF;\n",
              "    }\n",
              "  </style>\n",
              "\n",
              "    <script>\n",
              "      const buttonEl =\n",
              "        document.querySelector('#df-bec673c3-64d0-4197-86d4-6b4044e5e161 button.colab-df-convert');\n",
              "      buttonEl.style.display =\n",
              "        google.colab.kernel.accessAllowed ? 'block' : 'none';\n",
              "\n",
              "      async function convertToInteractive(key) {\n",
              "        const element = document.querySelector('#df-bec673c3-64d0-4197-86d4-6b4044e5e161');\n",
              "        const dataTable =\n",
              "          await google.colab.kernel.invokeFunction('convertToInteractive',\n",
              "                                                    [key], {});\n",
              "        if (!dataTable) return;\n",
              "\n",
              "        const docLinkHtml = 'Like what you see? Visit the ' +\n",
              "          '<a target=\"_blank\" href=https://colab.research.google.com/notebooks/data_table.ipynb>data table notebook</a>'\n",
              "          + ' to learn more about interactive tables.';\n",
              "        element.innerHTML = '';\n",
              "        dataTable['output_type'] = 'display_data';\n",
              "        await google.colab.output.renderOutput(dataTable, element);\n",
              "        const docLink = document.createElement('div');\n",
              "        docLink.innerHTML = docLinkHtml;\n",
              "        element.appendChild(docLink);\n",
              "      }\n",
              "    </script>\n",
              "  </div>\n",
              "\n",
              "\n",
              "<div id=\"df-8ccc16a8-8548-43a6-976d-87d0fc14db9a\">\n",
              "  <button class=\"colab-df-quickchart\" onclick=\"quickchart('df-8ccc16a8-8548-43a6-976d-87d0fc14db9a')\"\n",
              "            title=\"Suggest charts\"\n",
              "            style=\"display:none;\">\n",
              "\n",
              "<svg xmlns=\"http://www.w3.org/2000/svg\" height=\"24px\"viewBox=\"0 0 24 24\"\n",
              "     width=\"24px\">\n",
              "    <g>\n",
              "        <path d=\"M19 3H5c-1.1 0-2 .9-2 2v14c0 1.1.9 2 2 2h14c1.1 0 2-.9 2-2V5c0-1.1-.9-2-2-2zM9 17H7v-7h2v7zm4 0h-2V7h2v10zm4 0h-2v-4h2v4z\"/>\n",
              "    </g>\n",
              "</svg>\n",
              "  </button>\n",
              "\n",
              "<style>\n",
              "  .colab-df-quickchart {\n",
              "      --bg-color: #E8F0FE;\n",
              "      --fill-color: #1967D2;\n",
              "      --hover-bg-color: #E2EBFA;\n",
              "      --hover-fill-color: #174EA6;\n",
              "      --disabled-fill-color: #AAA;\n",
              "      --disabled-bg-color: #DDD;\n",
              "  }\n",
              "\n",
              "  [theme=dark] .colab-df-quickchart {\n",
              "      --bg-color: #3B4455;\n",
              "      --fill-color: #D2E3FC;\n",
              "      --hover-bg-color: #434B5C;\n",
              "      --hover-fill-color: #FFFFFF;\n",
              "      --disabled-bg-color: #3B4455;\n",
              "      --disabled-fill-color: #666;\n",
              "  }\n",
              "\n",
              "  .colab-df-quickchart {\n",
              "    background-color: var(--bg-color);\n",
              "    border: none;\n",
              "    border-radius: 50%;\n",
              "    cursor: pointer;\n",
              "    display: none;\n",
              "    fill: var(--fill-color);\n",
              "    height: 32px;\n",
              "    padding: 0;\n",
              "    width: 32px;\n",
              "  }\n",
              "\n",
              "  .colab-df-quickchart:hover {\n",
              "    background-color: var(--hover-bg-color);\n",
              "    box-shadow: 0 1px 2px rgba(60, 64, 67, 0.3), 0 1px 3px 1px rgba(60, 64, 67, 0.15);\n",
              "    fill: var(--button-hover-fill-color);\n",
              "  }\n",
              "\n",
              "  .colab-df-quickchart-complete:disabled,\n",
              "  .colab-df-quickchart-complete:disabled:hover {\n",
              "    background-color: var(--disabled-bg-color);\n",
              "    fill: var(--disabled-fill-color);\n",
              "    box-shadow: none;\n",
              "  }\n",
              "\n",
              "  .colab-df-spinner {\n",
              "    border: 2px solid var(--fill-color);\n",
              "    border-color: transparent;\n",
              "    border-bottom-color: var(--fill-color);\n",
              "    animation:\n",
              "      spin 1s steps(1) infinite;\n",
              "  }\n",
              "\n",
              "  @keyframes spin {\n",
              "    0% {\n",
              "      border-color: transparent;\n",
              "      border-bottom-color: var(--fill-color);\n",
              "      border-left-color: var(--fill-color);\n",
              "    }\n",
              "    20% {\n",
              "      border-color: transparent;\n",
              "      border-left-color: var(--fill-color);\n",
              "      border-top-color: var(--fill-color);\n",
              "    }\n",
              "    30% {\n",
              "      border-color: transparent;\n",
              "      border-left-color: var(--fill-color);\n",
              "      border-top-color: var(--fill-color);\n",
              "      border-right-color: var(--fill-color);\n",
              "    }\n",
              "    40% {\n",
              "      border-color: transparent;\n",
              "      border-right-color: var(--fill-color);\n",
              "      border-top-color: var(--fill-color);\n",
              "    }\n",
              "    60% {\n",
              "      border-color: transparent;\n",
              "      border-right-color: var(--fill-color);\n",
              "    }\n",
              "    80% {\n",
              "      border-color: transparent;\n",
              "      border-right-color: var(--fill-color);\n",
              "      border-bottom-color: var(--fill-color);\n",
              "    }\n",
              "    90% {\n",
              "      border-color: transparent;\n",
              "      border-bottom-color: var(--fill-color);\n",
              "    }\n",
              "  }\n",
              "</style>\n",
              "\n",
              "  <script>\n",
              "    async function quickchart(key) {\n",
              "      const quickchartButtonEl =\n",
              "        document.querySelector('#' + key + ' button');\n",
              "      quickchartButtonEl.disabled = true;  // To prevent multiple clicks.\n",
              "      quickchartButtonEl.classList.add('colab-df-spinner');\n",
              "      try {\n",
              "        const charts = await google.colab.kernel.invokeFunction(\n",
              "            'suggestCharts', [key], {});\n",
              "      } catch (error) {\n",
              "        console.error('Error during call to suggestCharts:', error);\n",
              "      }\n",
              "      quickchartButtonEl.classList.remove('colab-df-spinner');\n",
              "      quickchartButtonEl.classList.add('colab-df-quickchart-complete');\n",
              "    }\n",
              "    (() => {\n",
              "      let quickchartButtonEl =\n",
              "        document.querySelector('#df-8ccc16a8-8548-43a6-976d-87d0fc14db9a button');\n",
              "      quickchartButtonEl.style.display =\n",
              "        google.colab.kernel.accessAllowed ? 'block' : 'none';\n",
              "    })();\n",
              "  </script>\n",
              "</div>\n",
              "\n",
              "    </div>\n",
              "  </div>\n"
            ]
          },
          "metadata": {},
          "execution_count": 7
        }
      ]
    },
    {
      "cell_type": "markdown",
      "source": [
        "# Exploring the Dataset and Data Cleaning"
      ],
      "metadata": {
        "id": "O-v8oGaeuQqN"
      }
    },
    {
      "cell_type": "code",
      "source": [
        "supply_chain_df.columns"
      ],
      "metadata": {
        "colab": {
          "base_uri": "https://localhost:8080/"
        },
        "id": "-zjdEEMscpEQ",
        "outputId": "218fb6f7-6803-4025-bdc0-0276df811b74"
      },
      "execution_count": null,
      "outputs": [
        {
          "output_type": "execute_result",
          "data": {
            "text/plain": [
              "Index(['Type', 'Days for shipping (real)', 'Days for shipment (scheduled)',\n",
              "       'Benefit per order', 'Sales per customer', 'Delivery Status',\n",
              "       'Late_delivery_risk', 'Category Id', 'Category Name', 'Customer City',\n",
              "       'Customer Country', 'Customer Email', 'Customer Fname', 'Customer Id',\n",
              "       'Customer Lname', 'Customer Password', 'Customer Segment',\n",
              "       'Customer State', 'Customer Street', 'Customer Zipcode',\n",
              "       'Department Id', 'Department Name', 'Latitude', 'Longitude', 'Market',\n",
              "       'Order City', 'Order Country', 'Order Customer Id',\n",
              "       'order date (DateOrders)', 'Order Id', 'Order Item Cardprod Id',\n",
              "       'Order Item Discount', 'Order Item Discount Rate', 'Order Item Id',\n",
              "       'Order Item Product Price', 'Order Item Profit Ratio',\n",
              "       'Order Item Quantity', 'Sales', 'Order Item Total',\n",
              "       'Order Profit Per Order', 'Order Region', 'Order State', 'Order Status',\n",
              "       'Order Zipcode', 'Product Card Id', 'Product Category Id',\n",
              "       'Product Description', 'Product Image', 'Product Name', 'Product Price',\n",
              "       'Product Status', 'shipping date (DateOrders)', 'Shipping Mode'],\n",
              "      dtype='object')"
            ]
          },
          "metadata": {},
          "execution_count": 8
        }
      ]
    },
    {
      "cell_type": "code",
      "source": [
        "supply_chain_df.dtypes"
      ],
      "metadata": {
        "colab": {
          "base_uri": "https://localhost:8080/"
        },
        "id": "SXOgapahd1Ra",
        "outputId": "d0d6cbd7-78bc-4498-d86d-6bec9b755aca"
      },
      "execution_count": null,
      "outputs": [
        {
          "output_type": "execute_result",
          "data": {
            "text/plain": [
              "Type                              object\n",
              "Days for shipping (real)           int64\n",
              "Days for shipment (scheduled)      int64\n",
              "Benefit per order                float64\n",
              "Sales per customer               float64\n",
              "Delivery Status                   object\n",
              "Late_delivery_risk                 int64\n",
              "Category Id                        int64\n",
              "Category Name                     object\n",
              "Customer City                     object\n",
              "Customer Country                  object\n",
              "Customer Email                    object\n",
              "Customer Fname                    object\n",
              "Customer Id                        int64\n",
              "Customer Lname                    object\n",
              "Customer Password                 object\n",
              "Customer Segment                  object\n",
              "Customer State                    object\n",
              "Customer Street                   object\n",
              "Customer Zipcode                 float64\n",
              "Department Id                      int64\n",
              "Department Name                   object\n",
              "Latitude                         float64\n",
              "Longitude                        float64\n",
              "Market                            object\n",
              "Order City                        object\n",
              "Order Country                     object\n",
              "Order Customer Id                  int64\n",
              "order date (DateOrders)           object\n",
              "Order Id                           int64\n",
              "Order Item Cardprod Id             int64\n",
              "Order Item Discount              float64\n",
              "Order Item Discount Rate         float64\n",
              "Order Item Id                      int64\n",
              "Order Item Product Price         float64\n",
              "Order Item Profit Ratio          float64\n",
              "Order Item Quantity                int64\n",
              "Sales                            float64\n",
              "Order Item Total                 float64\n",
              "Order Profit Per Order           float64\n",
              "Order Region                      object\n",
              "Order State                       object\n",
              "Order Status                      object\n",
              "Order Zipcode                    float64\n",
              "Product Card Id                    int64\n",
              "Product Category Id                int64\n",
              "Product Description              float64\n",
              "Product Image                     object\n",
              "Product Name                      object\n",
              "Product Price                    float64\n",
              "Product Status                     int64\n",
              "shipping date (DateOrders)        object\n",
              "Shipping Mode                     object\n",
              "dtype: object"
            ]
          },
          "metadata": {},
          "execution_count": 9
        }
      ]
    },
    {
      "cell_type": "markdown",
      "source": [
        "**Missing Data Analysis**"
      ],
      "metadata": {
        "id": "GAg6dHurudH3"
      }
    },
    {
      "cell_type": "code",
      "source": [
        "# Visual representation of the missing data in the dataset\n",
        "\n",
        "missingno.matrix(supply_chain_df)"
      ],
      "metadata": {
        "id": "rDHg4J7KaxD1",
        "colab": {
          "base_uri": "https://localhost:8080/",
          "height": 652
        },
        "outputId": "a918af0c-fefb-43cb-fb79-90e8684fa809"
      },
      "execution_count": null,
      "outputs": [
        {
          "output_type": "execute_result",
          "data": {
            "text/plain": [
              "<Axes: >"
            ]
          },
          "metadata": {},
          "execution_count": 10
        },
        {
          "output_type": "display_data",
          "data": {
            "text/plain": [
              "<Figure size 2500x1000 with 2 Axes>"
            ],
            "image/png": "[encoded data removed]"
          },
          "metadata": {}
        }
      ]
    },
    {
      "cell_type": "code",
      "source": [
        "columns_with_missing = supply_chain_df.columns[supply_chain_df.isnull().any()]\n",
        "supply_chain_df[columns_with_missing].info()"
      ],
      "metadata": {
        "colab": {
          "base_uri": "https://localhost:8080/"
        },
        "id": "myVZk-y-4a7O",
        "outputId": "d58cc862-bac0-49a8-ede0-d08bdb3d977b"
      },
      "execution_count": null,
      "outputs": [
        {
          "output_type": "stream",
          "name": "stdout",
          "text": [
            "<class 'pandas.core.frame.DataFrame'>\n",
            "RangeIndex: 180519 entries, 0 to 180518\n",
            "Data columns (total 4 columns):\n",
            " #   Column               Non-Null Count   Dtype  \n",
            "---  ------               --------------   -----  \n",
            " 0   Customer Lname       180511 non-null  object \n",
            " 1   Customer Zipcode     180516 non-null  float64\n",
            " 2   Order Zipcode        24840 non-null   float64\n",
            " 3   Product Description  0 non-null       float64\n",
            "dtypes: float64(3), object(1)\n",
            "memory usage: 5.5+ MB\n"
          ]
        }
      ]
    },
    {
      "cell_type": "code",
      "source": [
        "supply_chain_df[columns_with_missing].isna().sum()"
      ],
      "metadata": {
        "colab": {
          "base_uri": "https://localhost:8080/"
        },
        "id": "QWye-RBU5Jkp",
        "outputId": "a39e6367-a1ad-43c5-ad05-7af75e4f57c9"
      },
      "execution_count": null,
      "outputs": [
        {
          "output_type": "execute_result",
          "data": {
            "text/plain": [
              "Customer Lname              8\n",
              "Customer Zipcode            3\n",
              "Order Zipcode          155679\n",
              "Product Description    180519\n",
              "dtype: int64"
            ]
          },
          "metadata": {},
          "execution_count": 12
        }
      ]
    },
    {
      "cell_type": "markdown",
      "source": [
        "**Analyzing Categorical Data**"
      ],
      "metadata": {
        "id": "Uy9_iYPiujVM"
      }
    },
    {
      "cell_type": "code",
      "source": [
        "supply_chain_df['Customer Country'].value_counts()\n",
        "\n",
        "# EE. UU. (Spanish)- Estados Unidos (United States)\n",
        "# Puerto Rico (Insular area)"
      ],
      "metadata": {
        "colab": {
          "base_uri": "https://localhost:8080/"
        },
        "id": "ZFtFVtYMrEIs",
        "outputId": "23868a8b-6180-4f32-d2f8-84459bf6030e"
      },
      "execution_count": null,
      "outputs": [
        {
          "output_type": "execute_result",
          "data": {
            "text/plain": [
              "EE. UU.        111146\n",
              "Puerto Rico     69373\n",
              "Name: Customer Country, dtype: int64"
            ]
          },
          "metadata": {},
          "execution_count": 13
        }
      ]
    },
    {
      "cell_type": "code",
      "source": [
        "supply_chain_df['Customer State'].value_counts()"
      ],
      "metadata": {
        "colab": {
          "base_uri": "https://localhost:8080/"
        },
        "id": "nqFPMrm4bEvo",
        "outputId": "9943c573-0c73-4009-87e0-c36b999504fa"
      },
      "execution_count": null,
      "outputs": [
        {
          "output_type": "execute_result",
          "data": {
            "text/plain": [
              "PR       69373\n",
              "CA       29223\n",
              "NY       11327\n",
              "TX        9103\n",
              "IL        7631\n",
              "FL        5456\n",
              "OH        4095\n",
              "PA        3824\n",
              "MI        3804\n",
              "NJ        3191\n",
              "AZ        3026\n",
              "GA        2503\n",
              "MD        2415\n",
              "NC        1992\n",
              "CO        1914\n",
              "VA        1849\n",
              "OR        1668\n",
              "MA        1607\n",
              "TN        1582\n",
              "NV        1440\n",
              "MO        1354\n",
              "HI        1248\n",
              "CT        1094\n",
              "UT         968\n",
              "NM         949\n",
              "LA         948\n",
              "WA         920\n",
              "WI         850\n",
              "MN         672\n",
              "SC         665\n",
              "IN         581\n",
              "DC         579\n",
              "KY         487\n",
              "KS         458\n",
              "DE         269\n",
              "RI         243\n",
              "WV         241\n",
              "OK         232\n",
              "ND         215\n",
              "ID         167\n",
              "AR         164\n",
              "MT          87\n",
              "IA          67\n",
              "AL          35\n",
              "95758        2\n",
              "91732        1\n",
              "Name: Customer State, dtype: int64"
            ]
          },
          "metadata": {},
          "execution_count": 14
        }
      ]
    },
    {
      "cell_type": "code",
      "source": [
        "# Data Correction - Replacing the incorrect entries of Zipcode in the \"Customer State\" column with the appropriate State Code\n",
        "\n",
        "supply_chain_df['Customer State'].replace(['95758', '91732'], 'CA', inplace = True)"
      ],
      "metadata": {
        "id": "Kf8Bgle1uTJA"
      },
      "execution_count": null,
      "outputs": []
    },
    {
      "cell_type": "code",
      "source": [
        "len(supply_chain_df['Customer State'].unique())"
      ],
      "metadata": {
        "colab": {
          "base_uri": "https://localhost:8080/"
        },
        "id": "SpbVUC2xuD2J",
        "outputId": "0c246274-ab0c-4b81-dbdb-01ed2891b6d0"
      },
      "execution_count": null,
      "outputs": [
        {
          "output_type": "execute_result",
          "data": {
            "text/plain": [
              "44"
            ]
          },
          "metadata": {},
          "execution_count": 16
        }
      ]
    },
    {
      "cell_type": "code",
      "source": [
        "print(supply_chain_df['Order Country'].unique())"
      ],
      "metadata": {
        "colab": {
          "base_uri": "https://localhost:8080/"
        },
        "id": "i0mYKqN95wtt",
        "outputId": "0c220e1f-f8ae-4a23-98e7-f73c989c5298"
      },
      "execution_count": null,
      "outputs": [
        {
          "output_type": "stream",
          "name": "stdout",
          "text": [
            "['Indonesia' 'India' 'Australia' 'China' 'Japón' 'Corea del Sur'\n",
            " 'Singapur' 'Turquía' 'Mongolia' 'Estados Unidos' 'Nigeria'\n",
            " 'República Democrática del Congo' 'Senegal' 'Marruecos' 'Alemania'\n",
            " 'Francia' 'Países Bajos' 'Reino Unido' 'Guatemala' 'El Salvador' 'Panamá'\n",
            " 'República Dominicana' 'Venezuela' 'Colombia' 'Honduras' 'Brasil'\n",
            " 'México' 'Uruguay' 'Argentina' 'Cuba' 'Perú' 'Nicaragua' 'Ecuador'\n",
            " 'Angola' 'Sudán' 'Somalia' 'Costa de Marfil' 'Egipto' 'Italia' 'España'\n",
            " 'Suecia' 'Austria' 'Canada' 'Madagascar' 'Argelia' 'Liberia' 'Zambia'\n",
            " 'Níger' 'SudAfrica' 'Mozambique' 'Tanzania' 'Ruanda' 'Israel'\n",
            " 'Nueva Zelanda' 'Bangladés' 'Tailandia' 'Irak' 'Arabia Saudí' 'Filipinas'\n",
            " 'Kazajistán' 'Irán' 'Myanmar (Birmania)' 'Uzbekistán' 'Benín' 'Camerún'\n",
            " 'Kenia' 'Togo' 'Ucrania' 'Polonia' 'Portugal' 'Rumania'\n",
            " 'Trinidad y Tobago' 'Afganistán' 'Pakistán' 'Vietnam' 'Malasia'\n",
            " 'Finlandia' 'Rusia' 'Irlanda' 'Noruega' 'Eslovaquia' 'Bélgica' 'Bolivia'\n",
            " 'Chile' 'Jamaica' 'Yemen' 'Ghana' 'Guinea' 'Etiopía' 'Bulgaria'\n",
            " 'Kirguistán' 'Georgia' 'Nepal' 'Emiratos Árabes Unidos' 'Camboya'\n",
            " 'Uganda' 'Lesoto' 'Lituania' 'Suiza' 'Hungría' 'Dinamarca' 'Haití'\n",
            " 'Bielorrusia' 'Croacia' 'Laos' 'Baréin' 'Macedonia' 'República Checa'\n",
            " 'Sri Lanka' 'Zimbabue' 'Eritrea' 'Burkina Faso' 'Costa Rica' 'Libia'\n",
            " 'Barbados' 'Tayikistán' 'Siria' 'Guadalupe' 'Papúa Nueva Guinea'\n",
            " 'Azerbaiyán' 'Turkmenistán' 'Paraguay' 'Jordania' 'Hong Kong' 'Martinica'\n",
            " 'Moldavia' 'Qatar' 'Mali' 'Albania' 'República del Congo'\n",
            " 'Bosnia y Herzegovina' 'Omán' 'Túnez' 'Sierra Leona' 'Yibuti' 'Burundi'\n",
            " 'Montenegro' 'Gabón' 'Sudán del Sur' 'Luxemburgo' 'Namibia' 'Mauritania'\n",
            " 'Grecia' 'Suazilandia' 'Guyana' 'Guayana Francesa'\n",
            " 'República Centroafricana' 'Taiwán' 'Estonia' 'Líbano' 'Chipre'\n",
            " 'Guinea-Bissau' 'Surinam' 'Belice' 'Eslovenia' 'República de Gambia'\n",
            " 'Botsuana' 'Armenia' 'Guinea Ecuatorial' 'Kuwait' 'Bután' 'Chad' 'Serbia'\n",
            " 'Sáhara Occidental']\n"
          ]
        }
      ]
    },
    {
      "cell_type": "code",
      "source": [
        "len(supply_chain_df['Order Country'].unique())"
      ],
      "metadata": {
        "colab": {
          "base_uri": "https://localhost:8080/"
        },
        "id": "12xnDiOuP4h8",
        "outputId": "128cc96c-34c7-4e60-af75-5211b802e7d5"
      },
      "execution_count": null,
      "outputs": [
        {
          "output_type": "execute_result",
          "data": {
            "text/plain": [
              "164"
            ]
          },
          "metadata": {},
          "execution_count": 18
        }
      ]
    },
    {
      "cell_type": "code",
      "source": [
        "# Replacing the contry names in Spanish with their English counterparts\n",
        "\n",
        "translation_dict = {\n",
        "    'Indonesia': 'Indonesia',\n",
        "    'India': 'India',\n",
        "    'Australia': 'Australia',\n",
        "    'China': 'China',\n",
        "    'Japón': 'Japan',\n",
        "    'Corea del Sur': 'South Korea',\n",
        "    'Singapur': 'Singapore',\n",
        "    'Turquía': 'Turkey',\n",
        "    'Mongolia': 'Mongolia',\n",
        "    'Estados Unidos': 'United States',\n",
        "    'Nigeria': 'Nigeria',\n",
        "    'República Democrática del Congo': 'Democratic Republic of the Congo',\n",
        "    'Senegal': 'Senegal',\n",
        "    'Marruecos': 'Morocco',\n",
        "    'Alemania': 'Germany',\n",
        "    'Francia': 'France',\n",
        "    'Países Bajos': 'Netherlands',\n",
        "    'Reino Unido': 'United Kingdom',\n",
        "    'Guatemala': 'Guatemala',\n",
        "    'El Salvador': 'El Salvador',\n",
        "    'Panamá': 'Panama',\n",
        "    'República Dominicana': 'Dominican Republic',\n",
        "    'Venezuela': 'Venezuela',\n",
        "    'Colombia': 'Colombia',\n",
        "    'Honduras': 'Honduras',\n",
        "    'Brasil': 'Brazil',\n",
        "    'México': 'Mexico',\n",
        "    'Uruguay': 'Uruguay',\n",
        "    'Argentina': 'Argentina',\n",
        "    'Cuba': 'Cuba',\n",
        "    'Perú': 'Peru',\n",
        "    'Nicaragua': 'Nicaragua',\n",
        "    'Ecuador': 'Ecuador',\n",
        "    'Angola': 'Angola',\n",
        "    'Sudán': 'Sudan',\n",
        "    'Somalia': 'Somalia',\n",
        "    'Costa de Marfil': 'Ivory Coast',\n",
        "    'Egipto': 'Egypt',\n",
        "    'Italia': 'Italy',\n",
        "    'España': 'Spain',\n",
        "    'Suecia': 'Sweden',\n",
        "    'Austria': 'Austria',\n",
        "    'Canada': 'Canada',\n",
        "    'Madagascar': 'Madagascar',\n",
        "    'Argelia': 'Algeria',\n",
        "    'Liberia': 'Liberia',\n",
        "    'Zambia': 'Zambia',\n",
        "    'Níger': 'Niger',\n",
        "    'SudAfrica': 'South Africa',\n",
        "    'Mozambique': 'Mozambique',\n",
        "    'Tanzania': 'Tanzania',\n",
        "    'Ruanda': 'Rwanda',\n",
        "    'Israel': 'Israel',\n",
        "    'Nueva Zelanda': 'New Zealand',\n",
        "    'Bangladés': 'Bangladesh',\n",
        "    'Tailandia': 'Thailand',\n",
        "    'Irak': 'Iraq',\n",
        "    'Arabia Saudí': 'Saudi Arabia',\n",
        "    'Filipinas': 'Philippines',\n",
        "    'Kazajistán': 'Kazakhstan',\n",
        "    'Irán': 'Iran',\n",
        "    'Myanmar (Birmania)': 'Myanmar (Burma)',\n",
        "    'Uzbekistán': 'Uzbekistan',\n",
        "    'Benín': 'Benin',\n",
        "    'Camerún': 'Cameroon',\n",
        "    'Kenia': 'Kenya',\n",
        "    'Togo': 'Togo',\n",
        "    'Ucrania': 'Ukraine',\n",
        "    'Polonia': 'Poland',\n",
        "    'Portugal': 'Portugal',\n",
        "    'Rumania': 'Romania',\n",
        "    'Trinidad y Tobago': 'Trinidad and Tobago',\n",
        "    'Afganistán': 'Afghanistan',\n",
        "    'Pakistán': 'Pakistan',\n",
        "    'Vietnam': 'Vietnam',\n",
        "    'Malasia': 'Malaysia',\n",
        "    'Finlandia': 'Finland',\n",
        "    'Rusia': 'Russia',\n",
        "    'Irlanda': 'Ireland',\n",
        "    'Noruega': 'Norway',\n",
        "    'Eslovaquia': 'Slovakia',\n",
        "    'Bélgica': 'Belgium',\n",
        "    'Bolivia': 'Bolivia',\n",
        "    'Chile': 'Chile',\n",
        "    'Jamaica': 'Jamaica',\n",
        "    'Yemen': 'Yemen',\n",
        "    'Ghana': 'Ghana',\n",
        "    'Guinea': 'Guinea',\n",
        "    'Etiopía': 'Ethiopia',\n",
        "    'Bulgaria': 'Bulgaria',\n",
        "    'Kirguistán': 'Kyrgyzstan',\n",
        "    'Georgia': 'Georgia',\n",
        "    'Nepal': 'Nepal',\n",
        "    'Emiratos Árabes Unidos': 'United Arab Emirates',\n",
        "    'Camboya': 'Cambodia',\n",
        "    'Uganda': 'Uganda',\n",
        "    'Lesoto': 'Lesotho',\n",
        "    'Lituania': 'Lithuania',\n",
        "    'Suiza': 'Switzerland',\n",
        "    'Hungría': 'Hungary',\n",
        "    'Dinamarca': 'Denmark',\n",
        "    'Haití': 'Haiti',\n",
        "    'Bielorrusia': 'Belarus',\n",
        "    'Croacia': 'Croatia',\n",
        "    'Laos': 'Laos',\n",
        "    'Baréin': 'Bahrain',\n",
        "    'Macedonia': 'Macedonia',\n",
        "    'República Checa': 'Czech Republic',\n",
        "    'Sri Lanka': 'Sri Lanka',\n",
        "    'Zimbabue': 'Zimbabwe',\n",
        "    'Eritrea': 'Eritrea',\n",
        "    'Burkina Faso': 'Burkina Faso',\n",
        "    'Costa Rica': 'Costa Rica',\n",
        "    'Libia': 'Libya',\n",
        "    'Barbados': 'Barbados',\n",
        "    'Tayikistán': 'Tajikistan',\n",
        "    'Siria': 'Syria',\n",
        "    'Guadalupe': 'Guadeloupe',\n",
        "    'Papúa Nueva Guinea': 'Papua New Guinea',\n",
        "    'Azerbaiyán': 'Azerbaijan',\n",
        "    'Turkmenistán': 'Turkmenistan',\n",
        "    'Paraguay': 'Paraguay',\n",
        "    'Jordania': 'Jordan',\n",
        "    'Hong Kong': 'Hong Kong',\n",
        "    'Martinica': 'Martinique',\n",
        "    'Moldavia': 'Moldova',\n",
        "    'Qatar': 'Qatar',\n",
        "    'Mali': 'Mali',\n",
        "    'Albania': 'Albania',\n",
        "    'República del Congo': 'Republic of the Congo',\n",
        "    'Bosnia y Herzegovina': 'Bosnia and Herzegovina',\n",
        "    'Omán': 'Oman',\n",
        "    'Túnez': 'Tunisia',\n",
        "    'Sierra Leona': 'Sierra Leone',\n",
        "    'Yibuti': 'Djibouti',\n",
        "    'Burundi': 'Burundi',\n",
        "    'Montenegro': 'Montenegro',\n",
        "    'Gabón': 'Gabon',\n",
        "    'Sudán del Sur': 'South Sudan',\n",
        "    'Luxemburgo': 'Luxembourg',\n",
        "    'Namibia': 'Namibia',\n",
        "    'Mauritania': 'Mauritania',\n",
        "    'Grecia': 'Greece',\n",
        "    'Suazilandia': 'Eswatini',\n",
        "    'Guyana': 'Guyana',\n",
        "    'Guayana Francesa': 'French Guiana',\n",
        "    'República Centroafricana': 'Central African Republic',\n",
        "    'Taiwán': 'Taiwan',\n",
        "    'Estonia': 'Estonia',\n",
        "    'Líbano': 'Lebanon',\n",
        "    'Chipre': 'Cyprus',\n",
        "    'Guinea-Bissau': 'Guinea-Bissau',\n",
        "    'Surinam': 'Suriname',\n",
        "    'Belice': 'Belize',\n",
        "    'Eslovenia': 'Slovenia',\n",
        "    'República de Gambia': 'Republic of the Gambia',\n",
        "    'Botsuana': 'Botswana',\n",
        "    'Armenia': 'Armenia',\n",
        "    'Guinea Ecuatorial': 'Equatorial Guinea',\n",
        "    'Kuwait': 'Kuwait',\n",
        "    'Bután': 'Bhutan',\n",
        "    'Chad': 'Chad',\n",
        "    'Serbia': 'Serbia',\n",
        "    'Sáhara Occidental': 'Western Sahara'\n",
        "}\n",
        "\n",
        "# Replace the values in the 'Order Country' column\n",
        "supply_chain_df.loc[:, 'Order Country'] = supply_chain_df['Order Country'].replace(translation_dict)"
      ],
      "metadata": {
        "id": "vPSIJtdSkh-y"
      },
      "execution_count": null,
      "outputs": []
    },
    {
      "cell_type": "markdown",
      "source": [
        "# Preliminary Insights"
      ],
      "metadata": {
        "id": "MByJllrQv-s1"
      }
    },
    {
      "cell_type": "code",
      "source": [],
      "metadata": {
        "id": "Ek4qFb3QwASG"
      },
      "execution_count": null,
      "outputs": []
    },
    {
      "cell_type": "code",
      "source": [],
      "metadata": {
        "id": "8JNdhs9PwA-K"
      },
      "execution_count": null,
      "outputs": []
    },
    {
      "cell_type": "code",
      "source": [],
      "metadata": {
        "id": "WUvK0ewTwBAp"
      },
      "execution_count": null,
      "outputs": []
    },
    {
      "cell_type": "code",
      "source": [],
      "metadata": {
        "id": "6ZcklSZmwBEA"
      },
      "execution_count": null,
      "outputs": []
    },
    {
      "cell_type": "markdown",
      "source": [
        "# Financial Analysis"
      ],
      "metadata": {
        "id": "ntiySEPswKxB"
      }
    },
    {
      "cell_type": "code",
      "source": [],
      "metadata": {
        "id": "dJN9f28dwPXQ"
      },
      "execution_count": null,
      "outputs": []
    },
    {
      "cell_type": "code",
      "source": [],
      "metadata": {
        "id": "ZJSLF0pMwPZr"
      },
      "execution_count": null,
      "outputs": []
    },
    {
      "cell_type": "code",
      "source": [],
      "metadata": {
        "id": "4jE-nyxcwPbd"
      },
      "execution_count": null,
      "outputs": []
    },
    {
      "cell_type": "code",
      "source": [],
      "metadata": {
        "id": "C85KxWU0wPe4"
      },
      "execution_count": null,
      "outputs": []
    },
    {
      "cell_type": "markdown",
      "source": [
        "# Analyzing Risk of Late Delivery"
      ],
      "metadata": {
        "id": "pOfvynu_wK35"
      }
    },
    {
      "cell_type": "code",
      "source": [],
      "metadata": {
        "id": "UodeoGfTwtMr"
      },
      "execution_count": null,
      "outputs": []
    },
    {
      "cell_type": "code",
      "source": [],
      "metadata": {
        "id": "FOiLo-2pwtQU"
      },
      "execution_count": null,
      "outputs": []
    },
    {
      "cell_type": "markdown",
      "source": [
        "# Market Analysis"
      ],
      "metadata": {
        "id": "4zoUAXPlwqRs"
      }
    },
    {
      "cell_type": "code",
      "source": [],
      "metadata": {
        "id": "2xMA7d4ZwYaC"
      },
      "execution_count": null,
      "outputs": []
    },
    {
      "cell_type": "code",
      "source": [],
      "metadata": {
        "id": "RO7OeAnuwYz_"
      },
      "execution_count": null,
      "outputs": []
    },
    {
      "cell_type": "code",
      "source": [],
      "metadata": {
        "id": "561rze0SwY3a"
      },
      "execution_count": null,
      "outputs": []
    },
    {
      "cell_type": "markdown",
      "source": [
        "# Fraud Detection"
      ],
      "metadata": {
        "id": "DvyfsgNhwZL5"
      }
    },
    {
      "cell_type": "code",
      "source": [],
      "metadata": {
        "id": "ZxntMkVMwbW2"
      },
      "execution_count": null,
      "outputs": []
    },
    {
      "cell_type": "code",
      "source": [],
      "metadata": {
        "id": "k4ASL-8mwvUs"
      },
      "execution_count": null,
      "outputs": []
    },
    {
      "cell_type": "code",
      "source": [],
      "metadata": {
        "id": "tNlOIzU_wvYO"
      },
      "execution_count": null,
      "outputs": []
    },
    {
      "cell_type": "markdown",
      "source": [
        "# Recency Analysis"
      ],
      "metadata": {
        "id": "szzzNVHiwz3y"
      }
    },
    {
      "cell_type": "code",
      "source": [],
      "metadata": {
        "id": "7MwcJfiWw2BE"
      },
      "execution_count": null,
      "outputs": []
    },
    {
      "cell_type": "code",
      "source": [],
      "metadata": {
        "id": "v8Q4-sTDw2bS"
      },
      "execution_count": null,
      "outputs": []
    },
    {
      "cell_type": "code",
      "source": [],
      "metadata": {
        "id": "LovZQecdw2e7"
      },
      "execution_count": null,
      "outputs": []
    }
  ]
}